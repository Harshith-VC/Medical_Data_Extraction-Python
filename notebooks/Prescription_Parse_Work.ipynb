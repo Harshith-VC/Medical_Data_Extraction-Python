{
 "cells": [
  {
   "cell_type": "markdown",
   "id": "2841d575-d1f0-4e1f-9a52-5116217a935f",
   "metadata": {},
   "source": [
    "***\n",
    "**<h2 style=\"color: Blue; text-align: center;\">Prescription PDF File Parse**</h2>\n",
    "***"
   ]
  },
  {
   "cell_type": "code",
   "execution_count": 2,
   "id": "e8c2a839-3a30-4aeb-937d-92134bd120bb",
   "metadata": {},
   "outputs": [],
   "source": [
    "from pdf2image import convert_from_path"
   ]
  },
  {
   "cell_type": "markdown",
   "id": "66233141-e111-4e38-99c4-dcb9bdc8ad51",
   "metadata": {},
   "source": [
    "## Converting TO Text Format"
   ]
  },
  {
   "cell_type": "code",
   "execution_count": 3,
   "id": "e8e7b873-0e74-4c19-8d21-028b600537ff",
   "metadata": {},
   "outputs": [],
   "source": [
    "pages = convert_from_path(r'docs\\prescription\\pre_1.pdf', poppler_path=r'C:\\poppler-24.02.0\\Library\\bin')"
   ]
  },
  {
   "cell_type": "markdown",
   "id": "d5baa67b-106e-4fd5-a1b0-523edae5fc70",
   "metadata": {},
   "source": [
    "## Print the File"
   ]
  },
  {
   "cell_type": "code",
   "execution_count": 57,
   "id": "d782c246-c903-4471-b618-02289c3e10f0",
   "metadata": {},
   "outputs": [],
   "source": [
    "pages[0].show()"
   ]
  },
  {
   "cell_type": "code",
   "execution_count": 58,
   "id": "d983dc7d-1f4c-4a40-b350-217d010386db",
   "metadata": {},
   "outputs": [],
   "source": [
    "import pytesseract"
   ]
  },
  {
   "cell_type": "markdown",
   "id": "9dd65e88-d89c-4a12-85ed-3ecade4facf3",
   "metadata": {},
   "source": [
    "## Extracting text with OCR"
   ]
  },
  {
   "cell_type": "code",
   "execution_count": 43,
   "id": "9c3aae59-5fc8-4da9-8d03-d758fb95c15d",
   "metadata": {},
   "outputs": [
    {
     "name": "stdout",
     "output_type": "stream",
     "text": [
      "Dr John Smith, M.D\n",
      "2 Non-Important Street,\n",
      "New York, Phone (000)-111-2222\n",
      "\n",
      "Name: Maria Sharapova Date: 5/11/2022\n",
      "\n",
      "Address: 9 tennis court, new Russia, DC\n",
      "\n",
      "—moemenmannenneneneunmnnnnennieesisiyoinnitniahadaaanniihsnseneneneeeernnttnnneenrenen:\n",
      "\n",
      "Prednisone 20 mg\n",
      "Lialda 2.4 gram\n",
      "\n",
      "3 days,\n",
      "\n",
      "or 1 month\n",
      "\n"
     ]
    }
   ],
   "source": [
    "pytesseract.pytesseract.tesseract_cmd=r'C:\\Program Files\\Tesseract-OCR\\tesseract.exe'\n",
    "text = pytesseract.image_to_string(pages[0], lang='eng')\n",
    "print(text)"
   ]
  },
  {
   "cell_type": "markdown",
   "id": "54b4402d-ab66-49eb-9466-e84a84550cff",
   "metadata": {},
   "source": [
    "## Preprocess Image"
   ]
  },
  {
   "cell_type": "code",
   "execution_count": 46,
   "id": "d20d6a93-4857-46e3-81f7-3a76a5d778f7",
   "metadata": {},
   "outputs": [],
   "source": [
    "import numpy as np\n",
    "import cv2\n",
    "from PIL import Image\n",
    "\n",
    "def preprocess_image(img):\n",
    "  \"\"\"Preprocesses an image for further analysis.\n",
    "\n",
    "  Args:\n",
    "      img: The input image as a NumPy array.\n",
    "\n",
    "  Returns:\n",
    "      A preprocessed image as a NumPy array.\n",
    "  \"\"\"\n",
    "\n",
    "  # Converting to grayscale:\n",
    "  gray = cv2.cvtColor(np.array(img), cv2.COLOR_BGR2GRAY)\n",
    "\n",
    "  # Resizing the image:\n",
    "  resized = cv2.resize(gray, None, fx=1.5, fy=1.5, interpolation=cv2.INTER_LINEAR)\n",
    "\n",
    "  # Adaptive thresholding:\n",
    "  processed_image = cv2.adaptiveThreshold(\n",
    "      resized,\n",
    "      255,\n",
    "      cv2.ADAPTIVE_THRESH_GAUSSIAN_C,\n",
    "      cv2.THRESH_BINARY,\n",
    "      61,\n",
    "      11\n",
    "  )\n",
    "\n",
    "  # Returning the processed image:\n",
    "  return processed_image\n"
   ]
  },
  {
   "cell_type": "code",
   "execution_count": 47,
   "id": "2d7d78af-2396-4c90-b5f1-6b6e40288232",
   "metadata": {},
   "outputs": [],
   "source": [
    "img = preprocess_image(pages[0])\n",
    "Image.fromarray(img).show()"
   ]
  },
  {
   "cell_type": "markdown",
   "id": "b843d28b-8be4-4890-bd87-9021cd8ec0af",
   "metadata": {},
   "source": [
    "## Extracting Text With OCR"
   ]
  },
  {
   "cell_type": "code",
   "execution_count": 48,
   "id": "a9f79f32-df38-40c1-8776-8842144ade4f",
   "metadata": {},
   "outputs": [
    {
     "name": "stdout",
     "output_type": "stream",
     "text": [
      "Dr John Smith, M.D\n",
      "2 Non-Important Street,\n",
      "New York, Phone (000)-111-2222\n",
      "\n",
      "Name: Marta Sharapova Date: 5/11/2022\n",
      "\n",
      "Address: 9 tennis court, new Russia, DC\n",
      "\n",
      "K\n",
      "\n",
      "Prednisone 20 mg\n",
      "Lialda 2.4 gram\n",
      "\n",
      "Directions:\n",
      "\n",
      "Prednisone, Taper 5 mig every 3 days,\n",
      "Finish in 2.5 weeks a\n",
      "Lialda - take 2 pill everyday for 1 month\n",
      "\n",
      "Refill: 2 times\n",
      "\n"
     ]
    }
   ],
   "source": [
    "pytesseract.pytesseract.tesseract_cmd=r'C:\\Program Files\\Tesseract-OCR\\tesseract.exe'\n",
    "text = pytesseract.image_to_string(img, lang='eng')\n",
    "print(text)"
   ]
  },
  {
   "cell_type": "markdown",
   "id": "39037ef4-9491-41d8-a0a2-415769edd9ed",
   "metadata": {},
   "source": [
    "## Store Text"
   ]
  },
  {
   "cell_type": "code",
   "execution_count": 49,
   "id": "3f2c5c57-ad18-44c7-bdc6-1d8a527d9fe8",
   "metadata": {},
   "outputs": [],
   "source": [
    "text = '''\n",
    "Dr John Smith, M.D\n",
    "2 Non-Important Street,\n",
    "New York, Phone (000)-111-2222\n",
    "Name: Marta Sharapova Date: 5/11/2022\n",
    "Address: 9 tennis court, new Russia, DC\n",
    "\n",
    " \n",
    " \n",
    "\n",
    "Prednisone 20 mg\n",
    "Lialda 2.4 gram\n",
    "Directions:\n",
    "Prednisone, Taper 5 mg every 3 days,\n",
    "Finish in 2.5 weeks -\n",
    "Lialda - take 2 pill everyday for 1 month\n",
    "Refill: 3 times\n",
    "'''"
   ]
  },
  {
   "cell_type": "markdown",
   "id": "ce8fa27f-4b22-4c04-a833-5a8578520088",
   "metadata": {},
   "source": [
    "## Extract Name"
   ]
  },
  {
   "cell_type": "code",
   "execution_count": 51,
   "id": "ab84ec2c-3efe-478f-b176-b306c140f0b4",
   "metadata": {},
   "outputs": [
    {
     "data": {
      "text/plain": [
       "'Marta Sharapova'"
      ]
     },
     "execution_count": 51,
     "metadata": {},
     "output_type": "execute_result"
    }
   ],
   "source": [
    "import re\n",
    "\n",
    "pattern = 'Name:(.*)Date'\n",
    "\n",
    "matches = re.findall(pattern, text)\n",
    "matches[0].strip()"
   ]
  },
  {
   "cell_type": "markdown",
   "id": "d340d8e9-effe-4e43-8b6d-f1312162ab5c",
   "metadata": {},
   "source": [
    "## Extract Address"
   ]
  },
  {
   "cell_type": "code",
   "execution_count": 11,
   "id": "aa11c139-fe42-478e-b1c2-ea7046f52101",
   "metadata": {},
   "outputs": [
    {
     "data": {
      "text/plain": [
       "'9 tennis court, new Russia, DC'"
      ]
     },
     "execution_count": 11,
     "metadata": {},
     "output_type": "execute_result"
    }
   ],
   "source": [
    "pattern = 'Address:(.*)\\n'\n",
    "\n",
    "matches = re.findall(pattern, text)\n",
    "matches[0].strip()"
   ]
  },
  {
   "cell_type": "markdown",
   "id": "fc791fcb-d8f7-4d3f-8077-25ab0213918b",
   "metadata": {},
   "source": [
    "## Extract Directions"
   ]
  },
  {
   "cell_type": "code",
   "execution_count": null,
   "id": "1f0e0644-65d0-4e92-bd4a-4d91560ff8e9",
   "metadata": {},
   "outputs": [],
   "source": [
    "pattern = 'Address[^\\n]*(.*)Directions'\n",
    "\n",
    "matches = re.findall(pattern, text, flags=re.DOTALL)\n",
    "matches[0].strip()"
   ]
  },
  {
   "cell_type": "markdown",
   "id": "828cc263-f7db-49a4-9d9f-402d6247bdaf",
   "metadata": {},
   "source": [
    "## Extract Refill"
   ]
  },
  {
   "cell_type": "code",
   "execution_count": 13,
   "id": "bdbeccba-2739-43af-9d33-f368fe8bd872",
   "metadata": {},
   "outputs": [
    {
     "data": {
      "text/plain": [
       "'Prednisone, Taper 5 mg every 3 days,\\nFinish in 2.5 weeks -\\nLialda - take 2 pill everyday for 1 month'"
      ]
     },
     "execution_count": 13,
     "metadata": {},
     "output_type": "execute_result"
    }
   ],
   "source": [
    "pattern = 'Directions:(.*)Refill'\n",
    "\n",
    "matches = re.findall(pattern, text, flags=re.DOTALL)\n",
    "matches[0].strip()"
   ]
  },
  {
   "cell_type": "markdown",
   "id": "197f09c0-bd36-45f2-8eb1-12a719fb14c3",
   "metadata": {},
   "source": [
    "## Extract Refill Time"
   ]
  },
  {
   "cell_type": "code",
   "execution_count": 14,
   "id": "80928e55-52b7-4364-8c48-6f8c1c4470d0",
   "metadata": {},
   "outputs": [
    {
     "data": {
      "text/plain": [
       "'3'"
      ]
     },
     "execution_count": 14,
     "metadata": {},
     "output_type": "execute_result"
    }
   ],
   "source": [
    "pattern = 'Refill:(.*)times'\n",
    "\n",
    "matches = re.findall(pattern, text, flags=re.DOTALL)\n",
    "matches[0].strip()"
   ]
  },
  {
   "cell_type": "code",
   "execution_count": null,
   "id": "8cc2af97-733b-4d27-9ea5-93caf7c47fd8",
   "metadata": {},
   "outputs": [],
   "source": []
  }
 ],
 "metadata": {
  "kernelspec": {
   "display_name": "Python 3 (ipykernel)",
   "language": "python",
   "name": "python3"
  },
  "language_info": {
   "codemirror_mode": {
    "name": "ipython",
    "version": 3
   },
   "file_extension": ".py",
   "mimetype": "text/x-python",
   "name": "python",
   "nbconvert_exporter": "python",
   "pygments_lexer": "ipython3",
   "version": "3.12.3"
  },
  "widgets": {
   "application/vnd.jupyter.widget-state+json": {
    "state": {},
    "version_major": 2,
    "version_minor": 0
   }
  }
 },
 "nbformat": 4,
 "nbformat_minor": 5
}
