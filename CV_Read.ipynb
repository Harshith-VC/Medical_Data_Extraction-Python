{
 "cells": [
  {
   "cell_type": "code",
   "execution_count": 1,
   "id": "8e61bc70-8ee5-4efd-8cc3-d888da4ee7ce",
   "metadata": {},
   "outputs": [],
   "source": [
    "import cv2\n",
    "from PIL import Image"
   ]
  },
  {
   "cell_type": "code",
   "execution_count": 6,
   "id": "24e3f918-94d4-43c8-9633-a1884f0498ad",
   "metadata": {},
   "outputs": [
    {
     "data": {
      "text/plain": [
       "array([[206, 206, 206, ..., 187, 186, 184],\n",
       "       [206, 206, 206, ..., 186, 185, 185],\n",
       "       [206, 206, 206, ..., 186, 185, 185],\n",
       "       ...,\n",
       "       [162, 157, 152, ..., 184, 184, 184],\n",
       "       [160, 156, 152, ..., 184, 184, 184],\n",
       "       [156, 158, 158, ..., 184, 184, 184]], dtype=uint8)"
      ]
     },
     "execution_count": 6,
     "metadata": {},
     "output_type": "execute_result"
    }
   ],
   "source": [
    "img=cv2.imread(\"dark_image.jpg\",flags=cv2.IMREAD_GRAYSCALE)\n",
    "img"
   ]
  },
  {
   "cell_type": "code",
   "execution_count": 7,
   "id": "f12ae999-5d80-4aaf-a3c4-fe483f1ac27e",
   "metadata": {},
   "outputs": [],
   "source": [
    "_, new_img = cv2.threshold(img,150,255,cv2.THRESH_BINARY)\n",
    "Image.fromarray(new_img).show()"
   ]
  },
  {
   "cell_type": "code",
   "execution_count": 8,
   "id": "457b3a42-01ff-44b2-a544-130b6dda4e89",
   "metadata": {},
   "outputs": [],
   "source": [
    "new_img = cv2.adaptiveThreshold(\n",
    "    img, 255, \n",
    "    cv2.ADAPTIVE_THRESH_GAUSSIAN_C, \n",
    "    cv2.THRESH_BINARY, \n",
    "    61,\n",
    "    11\n",
    ")\n",
    "Image.fromarray(new_img).show()"
   ]
  },
  {
   "cell_type": "code",
   "execution_count": null,
   "id": "fcd4a2a2-9b6e-4aaf-8a10-a3d419e02b4a",
   "metadata": {},
   "outputs": [],
   "source": []
  }
 ],
 "metadata": {
  "kernelspec": {
   "display_name": "Python 3 (ipykernel)",
   "language": "python",
   "name": "python3"
  },
  "language_info": {
   "codemirror_mode": {
    "name": "ipython",
    "version": 3
   },
   "file_extension": ".py",
   "mimetype": "text/x-python",
   "name": "python",
   "nbconvert_exporter": "python",
   "pygments_lexer": "ipython3",
   "version": "3.12.3"
  },
  "widgets": {
   "application/vnd.jupyter.widget-state+json": {
    "state": {},
    "version_major": 2,
    "version_minor": 0
   }
  }
 },
 "nbformat": 4,
 "nbformat_minor": 5
}
